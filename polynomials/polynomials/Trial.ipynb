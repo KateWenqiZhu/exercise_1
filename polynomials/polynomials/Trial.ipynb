{
 "cells": [
  {
   "cell_type": "code",
   "execution_count": 120,
   "metadata": {},
   "outputs": [],
   "source": [
    "from numbers import Number\n",
    "\n",
    "class Polynomial:\n",
    "\n",
    "  def __init__(self, coefs):\n",
    "\n",
    "      self.coefficients = coefs\n",
    "        \n",
    "  def degree(self): \n",
    "\n",
    "      return len(self.coefficients) - 1\n",
    "\n",
    "\n",
    "    \n",
    "  def __str__(self):\n",
    "    \n",
    "    coefs = self.coefficients\n",
    "    terms = []\n",
    "\n",
    "    # Degree 0 and 1 terms conventionally have different representation.\n",
    "    if coefs[0]:\n",
    "        terms.append(str(coefs[0]))\n",
    "    if self.degree() > 0 and coefs[1]:\n",
    "        terms.append(f\"{'' if coefs[1] == 1 else c}x\")\n",
    "\n",
    "        # Remaining terms look like cx^d, though factors of 1 are dropped.\n",
    "        terms += [f\"{'' if c == 1 else c}x^{d}\"\n",
    "                for d, c in enumerate(coefs[2:], start=2) if c]\n",
    "\n",
    "        # Sum polynomial terms from high to low exponent.\n",
    "    return \" + \".join(reversed(terms)) or \"0\"\n",
    "\n",
    "  def __eq__(self, other):\n",
    "\n",
    "      return self.coefficients == other.coefficients\n",
    "\n",
    "  def __add__(self, other):\n",
    "\n",
    "      if isinstance(other, Polynomial):\n",
    "\n",
    "        common=min(self.degree(), other.degree()) + 1\n",
    "        coefs = tuple (a + b for a, b in zip(self.coefficients, other.coefficients))\n",
    "        coefs += self.coefficients[common:] + other.coefficients[common:] \n",
    "        return Polynomial(coefs)\n",
    "\n",
    "      elif isinstance(other, Number):\n",
    "        return Polynomial((self.coefficients[0]+other,)+self.coefficients[1:])\n",
    "\n",
    "  def __radd__(self, other):\n",
    "        return self + other"
   ]
  },
  {
   "cell_type": "code",
   "execution_count": 122,
   "metadata": {},
   "outputs": [
    {
     "name": "stdout",
     "output_type": "stream",
     "text": [
      "None\n"
     ]
    }
   ],
   "source": [
    "\n",
    "\n",
    "f= 'frog' + Polynomial((1, 1)) \n",
    "print(f)\n"
   ]
  },
  {
   "cell_type": "code",
   "execution_count": 16,
   "metadata": {},
   "outputs": [
    {
     "name": "stdout",
     "output_type": "stream",
     "text": [
      "3x^3 + x + 2\n",
      "2\n"
     ]
    },
    {
     "data": {
      "text/plain": [
       "False"
      ]
     },
     "execution_count": 16,
     "metadata": {},
     "output_type": "execute_result"
    }
   ],
   "source": [
    "p = Polynomial((2, 1, 0, 3))\n",
    "print(p)\n",
    "\n",
    "p2 = Polynomial((2, ))\n",
    "print(p2)\n",
    "\n",
    "p == p2\n"
   ]
  },
  {
   "cell_type": "markdown",
   "metadata": {},
   "source": [
    "# a = [\"apple\", \"banana\", \"cherry\"]\n",
    "b = [\"Ford\", \"BMW\", \"Volvo\"]\n",
    "a.append(b)\n",
    "print(a)\n",
    "a[0]=1\n",
    "print(a)\n",
    " "
   ]
  },
  {
   "cell_type": "code",
   "execution_count": 92,
   "metadata": {},
   "outputs": [
    {
     "name": "stdout",
     "output_type": "stream",
     "text": [
      "(1, 2, 3, 4, 5, 6, 7, 8, 9)\n"
     ]
    },
    {
     "data": {
      "text/plain": [
       "tuple"
      ]
     },
     "execution_count": 92,
     "metadata": {},
     "output_type": "execute_result"
    }
   ],
   "source": [
    "thistuple = tuple(x for x in range(1, 10))# note the double round-brackets\n",
    "print(thistuple)\n",
    "type(thistuple)\n"
   ]
  },
  {
   "cell_type": "code",
   "execution_count": 167,
   "metadata": {},
   "outputs": [
    {
     "ename": "SyntaxError",
     "evalue": "invalid syntax (<fstring>, line 1)",
     "output_type": "error",
     "traceback": [
      "\u001b[1;36m  File \u001b[1;32m\"<fstring>\"\u001b[1;36m, line \u001b[1;32m1\u001b[0m\n\u001b[1;33m    ('x' if d == 1 else 'x^'{d})\u001b[0m\n\u001b[1;37m                            ^\u001b[0m\n\u001b[1;31mSyntaxError\u001b[0m\u001b[1;31m:\u001b[0m invalid syntax\n"
     ]
    }
   ],
   "source": []
  },
  {
   "cell_type": "code",
   "execution_count": 165,
   "metadata": {},
   "outputs": [
    {
     "name": "stdout",
     "output_type": "stream",
     "text": [
      "3x^d + x + 2\n"
     ]
    }
   ],
   "source": []
  },
  {
   "cell_type": "code",
   "execution_count": null,
   "metadata": {},
   "outputs": [],
   "source": []
  }
 ],
 "metadata": {
  "kernelspec": {
   "display_name": "Python 3",
   "language": "python",
   "name": "python3"
  },
  "language_info": {
   "codemirror_mode": {
    "name": "ipython",
    "version": 3
   },
   "file_extension": ".py",
   "mimetype": "text/x-python",
   "name": "python",
   "nbconvert_exporter": "python",
   "pygments_lexer": "ipython3",
   "version": "3.8.5"
  }
 },
 "nbformat": 4,
 "nbformat_minor": 4
}
